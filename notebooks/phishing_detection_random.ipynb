{
 "cells": [
  {
   "cell_type": "code",
   "execution_count": null,
   "metadata": {
    "id": "VoGLsNbyZOoV"
   },
   "outputs": [],
   "source": [
    "import numpy as np\n",
    "import pandas as pd\n",
    "import matplotlib.pyplot as plt\n",
    "import seaborn as sns\n",
    "import scipy.stats as stats\n",
    "from scipy.stats import mannwhitneyu\n",
    "from sklearn.model_selection import train_test_split\n",
    "from sklearn.preprocessing import StandardScaler\n",
    "from sklearn.ensemble import RandomForestClassifier\n",
    "from sklearn.svm import SVC\n",
    "from sklearn.metrics import jaccard_score\n",
    "from sklearn.metrics import f1_score\n",
    "from sklearn.metrics import log_loss\n",
    "from sklearn.metrics import classification_report,confusion_matrix,accuracy_score\n",
    "import sklearn.metrics as metrics\n",
    "from scipy.stats import randint, uniform\n",
    "import pickle\n",
    "from xgboost import XGBClassifier"
   ]
  },
  {
   "cell_type": "markdown",
   "metadata": {
    "id": "CRL251SdaMqj"
   },
   "source": [
    "Loading Dataset\n"
   ]
  },
  {
   "cell_type": "code",
   "execution_count": null,
   "metadata": {
    "id": "-26l9sBqaOtu"
   },
   "outputs": [],
   "source": [
    "df = pd.read_csv('dataset_phishing.csv')"
   ]
  },
  {
   "cell_type": "markdown",
   "metadata": {
    "id": "rpZD5ZXsaaTq"
   },
   "source": [
    "Data cleaning and Preprocessing"
   ]
  },
  {
   "cell_type": "code",
   "execution_count": null,
   "metadata": {
    "colab": {
     "base_uri": "https://localhost:8080/",
     "height": 290
    },
    "id": "rv6dtLxbadZz",
    "outputId": "40368f53-ee05-4547-8cb5-cb40a4195383"
   },
   "outputs": [],
   "source": [
    "df.head()"
   ]
  },
  {
   "cell_type": "code",
   "execution_count": null,
   "metadata": {
    "colab": {
     "base_uri": "https://localhost:8080/"
    },
    "id": "s_Z5Ih0Baluk",
    "outputId": "a6713fe2-8f60-4914-f983-acdcf3f610f5"
   },
   "outputs": [],
   "source": [
    "df.info()"
   ]
  },
  {
   "cell_type": "code",
   "execution_count": null,
   "metadata": {
    "colab": {
     "base_uri": "https://localhost:8080/"
    },
    "id": "mVVwrxqPaqSD",
    "outputId": "3270908e-9f76-47fe-efa8-71b2fe1c7c72"
   },
   "outputs": [],
   "source": [
    "df.columns\n"
   ]
  },
  {
   "cell_type": "code",
   "execution_count": null,
   "metadata": {
    "colab": {
     "base_uri": "https://localhost:8080/",
     "height": 178
    },
    "id": "SAxD4TFSatFH",
    "outputId": "47e237a3-0c8f-4aed-de19-97724574bdeb"
   },
   "outputs": [],
   "source": [
    "df['status'].value_counts()"
   ]
  },
  {
   "cell_type": "code",
   "execution_count": null,
   "metadata": {
    "id": "ihs1fmrdavtk"
   },
   "outputs": [],
   "source": [
    "#change status into int dtype with legitimate as 0 and phishing as 1\n",
    "mapping = {'legitimate':0, 'phishing':1}\n",
    "\n",
    "df['status'] = df['status'].map(mapping)"
   ]
  },
  {
   "cell_type": "code",
   "execution_count": null,
   "metadata": {
    "colab": {
     "base_uri": "https://localhost:8080/",
     "height": 178
    },
    "id": "n7jnzhZla5r0",
    "outputId": "bce85092-2189-4bfc-d8eb-792fad5cfb36"
   },
   "outputs": [],
   "source": [
    "df['status'].value_counts()"
   ]
  },
  {
   "cell_type": "code",
   "execution_count": null,
   "metadata": {
    "colab": {
     "base_uri": "https://localhost:8080/",
     "height": 443
    },
    "id": "w7v5agSZa8Kr",
    "outputId": "36bd1a15-fc59-4579-8484-ae1eacb85ad0"
   },
   "outputs": [],
   "source": [
    "corr_matrix = df.corr(numeric_only=True)\n",
    "corr_matrix"
   ]
  },
  {
   "cell_type": "code",
   "execution_count": null,
   "metadata": {
    "colab": {
     "base_uri": "https://localhost:8080/",
     "height": 458
    },
    "id": "AkqoWICWbBBD",
    "outputId": "5395fde2-e833-4177-c0be-7425a31a0cc5"
   },
   "outputs": [],
   "source": [
    "target_corr = corr_matrix['status']\n",
    "target_corr"
   ]
  },
  {
   "cell_type": "code",
   "execution_count": null,
   "metadata": {
    "colab": {
     "base_uri": "https://localhost:8080/"
    },
    "id": "mNQFICOrbIzK",
    "outputId": "30da299d-5afd-44f0-8d47-079d2a63a769"
   },
   "outputs": [],
   "source": [
    "#only choose features with abs value > 0.1\n",
    "\n",
    "threshold=0.1\n",
    "relevant_features = target_corr[abs(target_corr)>threshold].index.tolist()\n",
    "relevant_features"
   ]
  },
  {
   "cell_type": "code",
   "execution_count": null,
   "metadata": {
    "id": "EzdDfSUTbN44"
   },
   "outputs": [],
   "source": [
    "#only select relevant features\n",
    "\n",
    "X = df[relevant_features]\n",
    "X = X.drop('status', axis=1)\n",
    "y = df['status']"
   ]
  },
  {
   "cell_type": "code",
   "execution_count": null,
   "metadata": {
    "colab": {
     "base_uri": "https://localhost:8080/",
     "height": 255
    },
    "id": "odxnXS9AbScT",
    "outputId": "7276d4fd-bfe4-415d-f1b4-570f3670ef56"
   },
   "outputs": [],
   "source": [
    "X.head()"
   ]
  },
  {
   "cell_type": "code",
   "execution_count": null,
   "metadata": {
    "colab": {
     "base_uri": "https://localhost:8080/",
     "height": 241
    },
    "id": "5YbgAOTWbUyt",
    "outputId": "613e0a12-4235-4582-f633-c0b74ac4bd72"
   },
   "outputs": [],
   "source": [
    "y.head()"
   ]
  },
  {
   "cell_type": "code",
   "execution_count": null,
   "metadata": {
    "colab": {
     "base_uri": "https://localhost:8080/",
     "height": 810
    },
    "id": "QhrFshDxriN9",
    "outputId": "2e77414d-ed47-4ff1-b1ae-e8ad88becb09"
   },
   "outputs": [],
   "source": [
    "corr_matrix = df.corr(numeric_only=True)\n",
    "plt.figure(figsize=(12, 10))\n",
    "sns.heatmap(corr_matrix, annot=True, cmap=\"coolwarm\", fmt=\".2f\")\n",
    "plt.title(\"Correlation Matrix\")\n",
    "plt.show()"
   ]
  },
  {
   "cell_type": "code",
   "execution_count": null,
   "metadata": {
    "colab": {
     "base_uri": "https://localhost:8080/",
     "height": 811
    },
    "id": "VgBAlxGznZsJ",
    "outputId": "51121b78-4532-41fb-ce95-2bed81721396"
   },
   "outputs": [],
   "source": [
    "correlation_matrix = df[relevant_features].corr(numeric_only=True)\n",
    "plt.figure(figsize=(12, 10))\n",
    "sns.heatmap(correlation_matrix, annot=True, cmap=\"coolwarm\", fmt=\".2f\")\n",
    "plt.title(\"Correlation Matrix\")\n",
    "plt.show()"
   ]
  },
  {
   "cell_type": "code",
   "execution_count": null,
   "metadata": {
    "colab": {
     "base_uri": "https://localhost:8080/",
     "height": 1000
    },
    "id": "2mVuivi_2gYs",
    "outputId": "e43922e3-ef08-40ec-9bea-7e8e5c42c04f"
   },
   "outputs": [],
   "source": [
    "# Step 1: Normality Analysis\n",
    "# Loop through each relevant feature, plotting histogram and Q-Q plot\n",
    "for column in relevant_features:\n",
    "    plt.figure(figsize=(10, 4))\n",
    "\n",
    "    # Histogram\n",
    "    plt.subplot(1, 2, 1)\n",
    "    sns.histplot(df[column], kde=True)\n",
    "    plt.title(f'Histogram of {column}')\n",
    "\n",
    "    # Q-Q plot\n",
    "    plt.subplot(1, 2, 2)\n",
    "    stats.probplot(df[column].dropna(), dist=\"norm\", plot=plt)\n",
    "    plt.title(f'Q-Q Plot of {column}')\n",
    "\n",
    "    plt.tight_layout()\n",
    "    plt.show()\n",
    "\n",
    "# Statistical test for normality using Shapiro-Wilk for each feature\n",
    "for column in relevant_features:\n",
    "    stat, p = stats.shapiro(df[column].dropna())\n",
    "    print(f'{column}: Statistics={stat:.3f}, p={p:.3f}')\n",
    "    if p > 0.05:\n",
    "        print(f'{column} appears Gaussian (fail to reject H0)')\n",
    "    else:\n",
    "        print(f'{column} does NOT appear Gaussian (reject H0)')"
   ]
  },
  {
   "cell_type": "code",
   "execution_count": null,
   "metadata": {
    "colab": {
     "base_uri": "https://localhost:8080/",
     "height": 713
    },
    "id": "i4Fu7nSf2hWn",
    "outputId": "daa7237d-b923-4eed-8c7e-eadda3fb3994"
   },
   "outputs": [],
   "source": [
    "# Step 2: Correlation Analysis\n",
    "# Calculate and visualize the correlation matrix for relevant features\n",
    "plt.figure(figsize=(12, 8))\n",
    "correlation_matrix = df[relevant_features].corr()\n",
    "sns.heatmap(correlation_matrix, annot=True, cmap=\"coolwarm\", fmt=\".2f\")\n",
    "plt.title(\"Correlation Matrix of Relevant Features\")\n",
    "plt.show()"
   ]
  },
  {
   "cell_type": "code",
   "execution_count": null,
   "metadata": {
    "colab": {
     "base_uri": "https://localhost:8080/"
    },
    "id": "esOK4Jpo2kkT",
    "outputId": "f756a59f-b7e5-4b72-b349-776e9e18763c"
   },
   "outputs": [],
   "source": [
    "# Step 3: Statistical Testing - Comparing Phishing vs. Legitimate Sites\n",
    "for column in relevant_features:\n",
    "    phishing_data = df[df['status'] == 1][column].dropna()\n",
    "    legitimate_data = df[df['status'] == 0][column].dropna()\n",
    "\n",
    "    # Mann-Whitney U test (non-parametric) given possible non-normality\n",
    "    stat, p = mannwhitneyu(phishing_data, legitimate_data)\n",
    "    print(f'{column}: Mann-Whitney U Test Statistics={stat:.3f}, p={p:.3f}')\n",
    "    if p < 0.05:\n",
    "        print(f\"Significant difference in {column} between phishing and legitimate (reject H0)\")\n",
    "    else:\n",
    "        print(f\"No significant difference in {column} (fail to reject H0)\")"
   ]
  },
  {
   "cell_type": "code",
   "execution_count": null,
   "metadata": {
    "colab": {
     "base_uri": "https://localhost:8080/"
    },
    "id": "EOY9Xh4A2oH9",
    "outputId": "753298c7-c229-46d0-a321-074e9fdcef7f"
   },
   "outputs": [],
   "source": [
    "# Step 4: Hypothesis Testing Example (for specific feature comparisons)\n",
    "# Example Hypothesis: Feature 'length_hostname' has a higher median in phishing sites\n",
    "feature = 'length_hostname'\n",
    "\n",
    "# Calculate medians in phishing vs. legitimate\n",
    "phishing_median = df[df['status'] == 1][feature].median()\n",
    "legitimate_median = df[df['status'] == 0][feature].median()\n",
    "\n",
    "print(f'Median of {feature} in phishing sites: {phishing_median}')\n",
    "print(f'Median of {feature} in legitimate sites: {legitimate_median}')\n",
    "\n",
    "# Mann-Whitney U Test with 'greater' alternative hypothesis\n",
    "stat, p = mannwhitneyu(phishing_data, legitimate_data, alternative='greater')\n",
    "print(f'Mann-Whitney U Test for {feature}: Statistics={stat:.3f}, p={p:.3f}')\n",
    "if p < 0.05:\n",
    "    print(f\"Hypothesis supported: {feature} median is significantly higher in phishing sites.\")\n",
    "else:\n",
    "    print(f\"Hypothesis not supported: No significant median difference for {feature}.\")"
   ]
  },
  {
   "cell_type": "markdown",
   "metadata": {
    "id": "Y9sk7fKqbb9k"
   },
   "source": [
    "Model Developmet"
   ]
  },
  {
   "cell_type": "code",
   "execution_count": null,
   "metadata": {
    "id": "k0sn7oPTbsFi"
   },
   "outputs": [],
   "source": [
    "X_train, X_test, y_train, y_test = train_test_split(X,y, test_size=0.2, random_state=42)"
   ]
  },
  {
   "cell_type": "code",
   "execution_count": null,
   "metadata": {
    "id": "XOa0iWd9bs01"
   },
   "outputs": [],
   "source": [
    "scaler = StandardScaler()"
   ]
  },
  {
   "cell_type": "code",
   "execution_count": null,
   "metadata": {
    "id": "a0diZQdnbvwI"
   },
   "outputs": [],
   "source": [
    "X_train_scaled = scaler.fit_transform(X_train)\n",
    "X_test_scaled = scaler.fit_transform(X_test)"
   ]
  },
  {
   "cell_type": "markdown",
   "metadata": {
    "id": "ZFc6ZE1FcJ3f"
   },
   "source": [
    "Random Forest"
   ]
  },
  {
   "cell_type": "code",
   "execution_count": null,
   "metadata": {
    "colab": {
     "base_uri": "https://localhost:8080/",
     "height": 80
    },
    "id": "zooiBS13caSd",
    "outputId": "f02381f0-c6fa-4732-9ab3-60501bd06306"
   },
   "outputs": [],
   "source": [
    "rf = RandomForestClassifier()\n",
    "rf.fit(X_train_scaled,y_train)"
   ]
  },
  {
   "cell_type": "code",
   "execution_count": null,
   "metadata": {
    "id": "412-9R38cdzK"
   },
   "outputs": [],
   "source": [
    "rf_predict = rf.predict(X_test_scaled)"
   ]
  },
  {
   "cell_type": "code",
   "execution_count": null,
   "metadata": {
    "colab": {
     "base_uri": "https://localhost:8080/"
    },
    "id": "MOkdW9kCchK0",
    "outputId": "7d5cf644-297f-4da1-87bd-3fd2827a9578"
   },
   "outputs": [],
   "source": [
    "accuracy = accuracy_score(y_test,rf_predict)\n",
    "print(\"Accuracy:{}%\".format(round(accuracy *100), 1))"
   ]
  },
  {
   "cell_type": "code",
   "execution_count": null,
   "metadata": {
    "id": "YT9yrtdKckuQ"
   },
   "outputs": [],
   "source": [
    "rf_Accuracy_Score = accuracy_score(y_test,rf_predict)\n",
    "rf_JaccardIndex = jaccard_score(y_test,rf_predict)\n",
    "rf_F1_Score = f1_score(y_test,rf_predict)\n",
    "rf_Log_Loss = log_loss(y_test,rf_predict)"
   ]
  },
  {
   "cell_type": "code",
   "execution_count": null,
   "metadata": {
    "colab": {
     "base_uri": "https://localhost:8080/"
    },
    "id": "833HN53actWq",
    "outputId": "84cfe129-01eb-47aa-af10-d4f0f95846af"
   },
   "outputs": [],
   "source": [
    "print(f\"Accuracy: {rf_Accuracy_Score}\")\n",
    "print(f\"Jaccard Index: {rf_JaccardIndex}\")\n",
    "print(f\"F1 Score: {rf_F1_Score}\")\n",
    "print(f\"Log Loss: {rf_Log_Loss}\")"
   ]
  },
  {
   "cell_type": "code",
   "execution_count": null,
   "metadata": {
    "colab": {
     "base_uri": "https://localhost:8080/"
    },
    "id": "vyDD5yQXcwVv",
    "outputId": "fb6a53a9-f6db-475d-e287-8a88ed9afa31"
   },
   "outputs": [],
   "source": [
    "rf_conf_matrix = confusion_matrix(y_test,rf_predict)\n",
    "rf_conf_matrix"
   ]
  },
  {
   "cell_type": "code",
   "execution_count": null,
   "metadata": {
    "colab": {
     "base_uri": "https://localhost:8080/",
     "height": 472
    },
    "id": "W86P4fpNczhQ",
    "outputId": "9db7c9df-109c-4419-fbc7-b3d68f137bca"
   },
   "outputs": [],
   "source": [
    "sns.heatmap(rf_conf_matrix,annot=True, fmt = 'd',cmap='Greens')\n",
    "plt.xlabel('Predicted Label')\n",
    "plt.ylabel('True Label')\n",
    "plt.title('Confusion Matrix')\n",
    "plt.show()"
   ]
  },
  {
   "cell_type": "code",
   "execution_count": null,
   "metadata": {
    "colab": {
     "base_uri": "https://localhost:8080/"
    },
    "id": "Ob65WgEGc4Hm",
    "outputId": "c92e8f01-d52c-48a3-efa6-f08cda93689c"
   },
   "outputs": [],
   "source": [
    "rf_report = classification_report(y_test,rf_predict)\n",
    "print(rf_report)"
   ]
  },
  {
   "cell_type": "markdown",
   "metadata": {
    "id": "IfCI_Q8YdMNu"
   },
   "source": [
    "SVM"
   ]
  },
  {
   "cell_type": "code",
   "execution_count": null,
   "metadata": {
    "colab": {
     "base_uri": "https://localhost:8080/",
     "height": 80
    },
    "id": "pjHIKkEudNcL",
    "outputId": "a7c61938-320e-4d6a-a1f8-849fc5e78dd4"
   },
   "outputs": [],
   "source": [
    "svm = SVC()\n",
    "svm.fit(X_train_scaled,y_train)"
   ]
  },
  {
   "cell_type": "code",
   "execution_count": null,
   "metadata": {
    "id": "w5P4VLr6dQU7"
   },
   "outputs": [],
   "source": [
    "svm_predict = svm.predict(X_test_scaled)"
   ]
  },
  {
   "cell_type": "code",
   "execution_count": null,
   "metadata": {
    "colab": {
     "base_uri": "https://localhost:8080/"
    },
    "id": "_om0HlBJdTEH",
    "outputId": "30ca5c32-ecd4-431e-812c-a7617e0c10b2"
   },
   "outputs": [],
   "source": [
    "accuracy = accuracy_score(y_test,svm_predict)\n",
    "print(\"Accuracy:{}%\".format(round(accuracy *100), 1))"
   ]
  },
  {
   "cell_type": "code",
   "execution_count": null,
   "metadata": {
    "id": "NLpAmFFTdqaZ"
   },
   "outputs": [],
   "source": [
    "svm_Accuracy_Score = accuracy_score(y_test,svm_predict)\n",
    "svm_JaccardIndex = jaccard_score(y_test,svm_predict)\n",
    "svm_F1_Score = f1_score(y_test,svm_predict)\n",
    "svm_Log_Loss = log_loss(y_test,svm_predict)\n"
   ]
  },
  {
   "cell_type": "code",
   "execution_count": null,
   "metadata": {
    "colab": {
     "base_uri": "https://localhost:8080/"
    },
    "id": "h5uQfDitdt6Z",
    "outputId": "8e6c4e70-3cfc-4d27-e708-5dfcb90facc0"
   },
   "outputs": [],
   "source": [
    "print(f\"Accuracy: {svm_Accuracy_Score}\")\n",
    "print(f\"Jaccard Index: {svm_JaccardIndex}\")\n",
    "print(f\"F1 Score: {svm_F1_Score}\")\n",
    "print(f\"Log Loss: {svm_Log_Loss}\")\n"
   ]
  },
  {
   "cell_type": "code",
   "execution_count": null,
   "metadata": {
    "colab": {
     "base_uri": "https://localhost:8080/"
    },
    "id": "fKOQnv9DdyJ0",
    "outputId": "77d418a4-8af5-4cc6-84f2-93f2f62b105a"
   },
   "outputs": [],
   "source": [
    "svm_conf_matrix = confusion_matrix(y_test,svm_predict)\n",
    "svm_conf_matrix"
   ]
  },
  {
   "cell_type": "code",
   "execution_count": null,
   "metadata": {
    "colab": {
     "base_uri": "https://localhost:8080/",
     "height": 472
    },
    "id": "N0Zkn4Wvd1ZI",
    "outputId": "314507ef-dceb-4d75-81e7-3750594f5b28"
   },
   "outputs": [],
   "source": [
    "sns.heatmap(svm_conf_matrix,annot=True, fmt = 'd',cmap='Greens')\n",
    "plt.xlabel('Predicted Label')\n",
    "plt.ylabel('True Label')\n",
    "plt.title('Confusion Matrix')\n",
    "plt.show()"
   ]
  },
  {
   "cell_type": "markdown",
   "metadata": {
    "id": "a0_CRjTCd9zt"
   },
   "source": [
    "XG Boost"
   ]
  },
  {
   "cell_type": "code",
   "execution_count": null,
   "metadata": {
    "id": "IbdHu64eeA6z"
   },
   "outputs": [],
   "source": [
    "params = {\n",
    "    'n_estimators': 100,\n",
    "    'max_depth': 6,\n",
    "    'learning_rate': 0.1,\n",
    "    'subsample': 0.8,\n",
    "    'colsample_bytree': 0.8,\n",
    "    'min_child_weight': 1,\n",
    "    'gamma': 0,\n",
    "    'objective': 'binary:logistic'\n",
    "}"
   ]
  },
  {
   "cell_type": "code",
   "execution_count": null,
   "metadata": {
    "colab": {
     "base_uri": "https://localhost:8080/",
     "height": 253
    },
    "id": "ORcE7bw-eDZS",
    "outputId": "701639b6-edc4-4d74-f0d6-d4b16341553a"
   },
   "outputs": [],
   "source": [
    "xgb = XGBClassifier(**params)\n",
    "xgb.fit(X_train_scaled,y_train)"
   ]
  },
  {
   "cell_type": "code",
   "execution_count": null,
   "metadata": {
    "id": "qTPPy5MTeGaN"
   },
   "outputs": [],
   "source": [
    "xgb_predict = xgb.predict(X_test_scaled)"
   ]
  },
  {
   "cell_type": "code",
   "execution_count": null,
   "metadata": {
    "colab": {
     "base_uri": "https://localhost:8080/"
    },
    "id": "Q3kC0GTjeKzD",
    "outputId": "8b8ba4bf-7a66-4ec1-87e3-365a6179686c"
   },
   "outputs": [],
   "source": [
    "accuracy = accuracy_score(y_test,xgb_predict)\n",
    "print(\"Accuracy:{}%\".format(round(accuracy *100), 1))"
   ]
  },
  {
   "cell_type": "code",
   "execution_count": null,
   "metadata": {
    "id": "e3ETQFDqeNcc"
   },
   "outputs": [],
   "source": [
    "xgb_Accuracy_Score = accuracy_score(y_test,xgb_predict)\n",
    "xgb_JaccardIndex = jaccard_score(y_test,xgb_predict)\n",
    "xgb_F1_Score = f1_score(y_test,xgb_predict)\n",
    "xgb_Log_Loss = log_loss(y_test,xgb_predict)"
   ]
  },
  {
   "cell_type": "code",
   "execution_count": null,
   "metadata": {
    "colab": {
     "base_uri": "https://localhost:8080/"
    },
    "id": "E1e1kvraePig",
    "outputId": "96cd7d5f-e98b-4868-96a8-1464de8d3164"
   },
   "outputs": [],
   "source": [
    "print(f\"Accuracy: {xgb_Accuracy_Score}\")\n",
    "print(f\"Jaccard Index: {xgb_JaccardIndex}\")\n",
    "print(f\"F1 Score: {xgb_F1_Score}\")\n",
    "print(f\"Log Loss: {xgb_Log_Loss}\")"
   ]
  },
  {
   "cell_type": "code",
   "execution_count": null,
   "metadata": {
    "colab": {
     "base_uri": "https://localhost:8080/"
    },
    "id": "jtOdCxB3eUum",
    "outputId": "801a64b5-c178-4afe-a3f9-d9e06acf3086"
   },
   "outputs": [],
   "source": [
    "xgb_conf_matrix = confusion_matrix(y_test,xgb_predict)\n",
    "xgb_conf_matrix"
   ]
  },
  {
   "cell_type": "code",
   "execution_count": null,
   "metadata": {
    "colab": {
     "base_uri": "https://localhost:8080/",
     "height": 472
    },
    "id": "gFKNu_j3eXCk",
    "outputId": "dc0b41ba-15bf-4ed1-ea93-16ce86601c25"
   },
   "outputs": [],
   "source": [
    "sns.heatmap(xgb_conf_matrix,annot=True, fmt = 'd',cmap='Greens')\n",
    "plt.xlabel('Predicted Label')\n",
    "plt.ylabel('True Label')\n",
    "plt.title('Confusion Matrix')\n",
    "plt.show()"
   ]
  },
  {
   "cell_type": "markdown",
   "metadata": {
    "id": "d552okPjeeek"
   },
   "source": [
    "Model Accuracy"
   ]
  },
  {
   "cell_type": "code",
   "execution_count": null,
   "metadata": {
    "id": "Z0oyjWTcehMu"
   },
   "outputs": [],
   "source": [
    "accuracy_scores = {\n",
    "    'Random Forest' : round(accuracy_score(y_test,rf_predict), 2),\n",
    "    'SVM' : round(accuracy_score(y_test,svm_predict), 2),\n",
    "    'XGBoost' : round(accuracy_score(y_test,xgb_predict), 2)\n",
    "}"
   ]
  },
  {
   "cell_type": "code",
   "execution_count": null,
   "metadata": {
    "colab": {
     "base_uri": "https://localhost:8080/",
     "height": 143
    },
    "id": "eTvlwcb7ejKM",
    "outputId": "eca90e7f-dfe9-4425-9c72-7f5f615d44a9"
   },
   "outputs": [],
   "source": [
    "accuracy_df = pd.DataFrame(list(accuracy_scores.items()), columns=['Model', 'Accuracy Score'])\n",
    "accuracy_df"
   ]
  },
  {
   "cell_type": "markdown",
   "metadata": {
    "id": "uGd0RB5Xepnw"
   },
   "source": [
    "Model Deployment"
   ]
  },
  {
   "cell_type": "code",
   "execution_count": null,
   "metadata": {
    "id": "2Ck3Z0JFesDl"
   },
   "outputs": [],
   "source": [
    "#saving the best performing model\n",
    "\n",
    "filename = 'phishing_detection_model.sav'\n",
    "pickle.dump(rf, open(filename, 'wb'))"
   ]
  }
 ],
 "metadata": {
  "colab": {
   "provenance": []
  },
  "kernelspec": {
   "display_name": ".venv",
   "language": "python",
   "name": "python3"
  },
  "language_info": {
   "codemirror_mode": {
    "name": "ipython",
    "version": 3
   },
   "file_extension": ".py",
   "mimetype": "text/x-python",
   "name": "python",
   "nbconvert_exporter": "python",
   "pygments_lexer": "ipython3",
   "version": "3.12.4"
  }
 },
 "nbformat": 4,
 "nbformat_minor": 0
}
